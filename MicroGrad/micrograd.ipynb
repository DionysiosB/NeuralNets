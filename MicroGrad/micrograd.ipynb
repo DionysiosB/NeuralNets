{
  "nbformat": 4,
  "nbformat_minor": 0,
  "metadata": {
    "colab": {
      "provenance": []
    },
    "kernelspec": {
      "name": "python3",
      "display_name": "Python 3"
    },
    "language_info": {
      "name": "python"
    }
  },
  "cells": [
    {
      "cell_type": "code",
      "execution_count": 3,
      "metadata": {
        "id": "5Iex7PjLpUT-"
      },
      "outputs": [],
      "source": [
        "from graphviz import Digraph\n",
        "\n",
        "def trace(root):\n",
        "    nodes = set()\n",
        "    edges = set()\n",
        "    def build(v):\n",
        "        if v in nodes:return\n",
        "        nodes.add(v)\n",
        "        for cv in v.prev:\n",
        "            edges.add((cv, v))\n",
        "            build(cv)\n",
        "    build(root)\n",
        "    return nodes, edges\n",
        "\n",
        "def draw(root, format = \"svg\", rankdir=\"LR\"):\n",
        "\n",
        "    assert rankdir in [\"LR\", \"TB\"]\n",
        "    g = Digraph(format=format, graph_attr={'rankdir': rankdir})\n",
        "\n",
        "    remaining = [root]\n",
        "\n",
        "    while len(remaining) > 0:\n",
        "        v = remaining.pop(0)\n",
        "        op = v.how\n",
        "        if op == \"var\": continue\n",
        "        vname = str(id(v))\n",
        "        g.node(name = vname, label=f\"{v.label} | val={v.val:.3f} | Grad={v.grad:.3f}\", shape=\"record\")\n",
        "        opname = str(id(v)) + op\n",
        "        g.node(name = opname, label=op)\n",
        "        g.edge(opname, vname)\n",
        "        for pv in v.prev:\n",
        "            pvname = str(id(pv))\n",
        "            g.node(name = pvname, label=f\"{pv.label} | val={pv.val:.3f} | Grad={pv.grad:.3f}\", shape=\"record\")\n",
        "            g.edge(pvname, opname)\n",
        "            remaining.append(pv)\n",
        "\n",
        "    return g\n"
      ]
    },
    {
      "cell_type": "code",
      "source": [
        "import numpy as np\n",
        "\n",
        "\n",
        "class Value:\n",
        "\n",
        "    def __init__(self, val=0.0, label=\"_\", prev=(), op=\"var\"):\n",
        "        self.val = val\n",
        "        self.label = label\n",
        "        self.prev = set(prev)\n",
        "        self.how = op\n",
        "        self.grad = 0.0\n",
        "        self.backward = lambda: None\n",
        "\n",
        "    def __add__(self, other):\n",
        "        if isinstance(other, (int, float)): other = Value(other)\n",
        "        assert isinstance(other, Value), \"Operation should be between two Values\"\n",
        "\n",
        "        out = Value(val = self.val + other.val, prev = (self, other), op = \"+\")\n",
        "        def _backward():\n",
        "            self.grad  += out.grad\n",
        "            other.grad += out.grad\n",
        "        out.backward = _backward\n",
        "        return out\n",
        "\n",
        "    def __mul__(self, other):\n",
        "        if isinstance(other, (int, float)): other = Value(other)\n",
        "        assert isinstance(other, Value), \"Operation should be between two Values\"\n",
        "\n",
        "        out = Value(val = self.val * other.val, prev = (self, other), op = \"*\")\n",
        "        def _backward():\n",
        "            self.grad  += other.val * out.grad\n",
        "            other.grad +=  self.val * out.grad\n",
        "        out.backward = _backward\n",
        "        return out\n",
        "\n",
        "    def __pow__(self, other):\n",
        "        if not isinstance(other, (int, float)): assert \"Can only raise to a number power\"\n",
        "        out = Value(val = np.power(self.val, other), prev = (self,), op = \"^{other}\")\n",
        "        def _backward():\n",
        "            self.grad += other * (self.val ** (other - 1)) * out.grad\n",
        "        out.backward = _backward\n",
        "        return out\n",
        "\n",
        "    def relu(self):\n",
        "        out = Value(val = self.val if self.val >= 0 else 0.0, prev = (self,), op=\"ReLU\")\n",
        "        def _backward():\n",
        "            self.grad += (self.val > 0.0) * out.grad\n",
        "        out.backward = _backward\n",
        "        return out\n",
        "\n",
        "    def tanh(self):\n",
        "        rval = self.val\n",
        "        num = (np.exp(rval) - np.exp(-rval)) / (np.exp(rval) + np.exp(-rval))\n",
        "        out = Value(val = num, prev = (self,), op = \"tanh\")\n",
        "        def _backward():\n",
        "            self.grad += (1 - num**2) * out.grad\n",
        "        out.backward = _backward\n",
        "        return out\n",
        "\n",
        "\n",
        "    def __neg__(self):\n",
        "        return self * (-1)\n",
        "\n",
        "    def __sub__(self, other):\n",
        "        return self + (-other)\n",
        "\n",
        "    def __div__(self, other):\n",
        "        return self * (other ** -1)\n",
        "\n",
        "    def __radd__(self, other):\n",
        "        return self + other\n",
        "\n",
        "    def __rsub__(self, other):\n",
        "        return self - other\n",
        "\n",
        "    def __rmul__(self, other):\n",
        "        return self * other\n",
        "\n",
        "    def __truediv__(self, other):\n",
        "        return other * (self ** -1)\n",
        "\n",
        "    def __repr__(self):\n",
        "        return f\"Value:{self.label} val={self.val} how:{self.how} grad:{self.grad}\"\n",
        "\n",
        "    def backprop(self):\n",
        "        toplist = list()\n",
        "        visited = set()\n",
        "        def build(v):\n",
        "            if v in visited: return\n",
        "            visited.add(v)\n",
        "            for cv in v.prev: build(cv)\n",
        "            toplist.append(v)\n",
        "        build(self)\n",
        "        print([v.label for v in toplist])\n",
        "\n",
        "        self.grad = 1.0\n",
        "        for v in reversed(toplist): v.backward()\n"
      ],
      "metadata": {
        "id": "iODsLImxpoZW"
      },
      "execution_count": 4,
      "outputs": []
    },
    {
      "cell_type": "code",
      "source": [
        "a = Value(2.0, \"A\")\n",
        "b = Value(-3.0, \"B\")\n",
        "c = Value(10.0, \"C\")\n",
        "e = a * b; e.label = \"E\"\n",
        "d = e + c; d.label = \"D\"\n",
        "f = Value(2.0, \"F\")\n",
        "g = d * f; g.label = \"L\";\n",
        "h = g.relu(); h.label= \"H\"\n",
        "k = Value(-5); k.label = \"K\"\n",
        "m = h * k; m.label = \"M\"\n",
        "\n",
        "\n",
        "\n",
        "print(a)\n",
        "print(b)\n",
        "print(c)\n",
        "print(e)\n",
        "print(d)\n",
        "print(f)\n",
        "print(g)\n",
        "print(h)\n",
        "print(k)\n",
        "print(m)\n",
        "m.backprop()\n",
        "draw(h)\n"
      ],
      "metadata": {
        "colab": {
          "base_uri": "https://localhost:8080/",
          "height": 492
        },
        "id": "DMhci9Kw61M5",
        "outputId": "d436f890-9043-47b9-8bc0-7b782b767e9a"
      },
      "execution_count": 5,
      "outputs": [
        {
          "output_type": "stream",
          "name": "stdout",
          "text": [
            "Value:A val=2.0 how:var grad:0.0\n",
            "Value:B val=-3.0 how:var grad:0.0\n",
            "Value:C val=10.0 how:var grad:0.0\n",
            "Value:E val=-6.0 how:* grad:0.0\n",
            "Value:D val=4.0 how:+ grad:0.0\n",
            "Value:F val=2.0 how:var grad:0.0\n",
            "Value:L val=8.0 how:* grad:0.0\n",
            "Value:H val=8.0 how:ReLU grad:0.0\n",
            "Value:K val=-5 how:var grad:0.0\n",
            "Value:M val=-40.0 how:* grad:0.0\n",
            "['K', 'C', 'B', 'A', 'E', 'D', 'F', 'L', 'H', 'M']\n"
          ]
        },
        {
          "output_type": "execute_result",
          "data": {
            "image/svg+xml": "<?xml version=\"1.0\" encoding=\"UTF-8\" standalone=\"no\"?>\n<!DOCTYPE svg PUBLIC \"-//W3C//DTD SVG 1.1//EN\"\n \"http://www.w3.org/Graphics/SVG/1.1/DTD/svg11.dtd\">\n<!-- Generated by graphviz version 2.43.0 (0)\n -->\n<!-- Title: %3 Pages: 1 -->\n<svg width=\"979pt\" height=\"210pt\"\n viewBox=\"0.00 0.00 978.99 210.00\" xmlns=\"http://www.w3.org/2000/svg\" xmlns:xlink=\"http://www.w3.org/1999/xlink\">\n<g id=\"graph0\" class=\"graph\" transform=\"scale(1 1) rotate(0) translate(4 206)\">\n<title>%3</title>\n<polygon fill=\"white\" stroke=\"transparent\" points=\"-4,4 -4,-206 974.99,-206 974.99,4 -4,4\"/>\n<!-- 132005508668272 -->\n<g id=\"node1\" class=\"node\">\n<title>132005508668272</title>\n<polygon fill=\"none\" stroke=\"black\" points=\"883.99,-44.5 883.99,-113.5 970.99,-113.5 970.99,-44.5 883.99,-44.5\"/>\n<text text-anchor=\"middle\" x=\"927.49\" y=\"-98.3\" font-family=\"Times,serif\" font-size=\"14.00\">H</text>\n<polyline fill=\"none\" stroke=\"black\" points=\"883.99,-90.5 970.99,-90.5 \"/>\n<text text-anchor=\"middle\" x=\"927.49\" y=\"-75.3\" font-family=\"Times,serif\" font-size=\"14.00\">val=8.000</text>\n<polyline fill=\"none\" stroke=\"black\" points=\"883.99,-67.5 970.99,-67.5 \"/>\n<text text-anchor=\"middle\" x=\"927.49\" y=\"-52.3\" font-family=\"Times,serif\" font-size=\"14.00\">Grad=&#45;5.000</text>\n</g>\n<!-- 132005508668272ReLU -->\n<g id=\"node2\" class=\"node\">\n<title>132005508668272ReLU</title>\n<ellipse fill=\"none\" stroke=\"black\" cx=\"815.5\" cy=\"-79\" rx=\"32.49\" ry=\"18\"/>\n<text text-anchor=\"middle\" x=\"815.5\" y=\"-75.3\" font-family=\"Times,serif\" font-size=\"14.00\">ReLU</text>\n</g>\n<!-- 132005508668272ReLU&#45;&gt;132005508668272 -->\n<g id=\"edge1\" class=\"edge\">\n<title>132005508668272ReLU&#45;&gt;132005508668272</title>\n<path fill=\"none\" stroke=\"black\" d=\"M848.02,-79C856.05,-79 864.9,-79 873.68,-79\"/>\n<polygon fill=\"black\" stroke=\"black\" points=\"873.9,-82.5 883.9,-79 873.9,-75.5 873.9,-82.5\"/>\n</g>\n<!-- 132005508667552 -->\n<g id=\"node3\" class=\"node\">\n<title>132005508667552</title>\n<polygon fill=\"none\" stroke=\"black\" points=\"660,-44.5 660,-113.5 747,-113.5 747,-44.5 660,-44.5\"/>\n<text text-anchor=\"middle\" x=\"703.5\" y=\"-98.3\" font-family=\"Times,serif\" font-size=\"14.00\">L</text>\n<polyline fill=\"none\" stroke=\"black\" points=\"660,-90.5 747,-90.5 \"/>\n<text text-anchor=\"middle\" x=\"703.5\" y=\"-75.3\" font-family=\"Times,serif\" font-size=\"14.00\">val=8.000</text>\n<polyline fill=\"none\" stroke=\"black\" points=\"660,-67.5 747,-67.5 \"/>\n<text text-anchor=\"middle\" x=\"703.5\" y=\"-52.3\" font-family=\"Times,serif\" font-size=\"14.00\">Grad=&#45;5.000</text>\n</g>\n<!-- 132005508667552&#45;&gt;132005508668272ReLU -->\n<g id=\"edge2\" class=\"edge\">\n<title>132005508667552&#45;&gt;132005508668272ReLU</title>\n<path fill=\"none\" stroke=\"black\" d=\"M747.03,-79C755.36,-79 764.09,-79 772.41,-79\"/>\n<polygon fill=\"black\" stroke=\"black\" points=\"772.66,-82.5 782.66,-79 772.66,-75.5 772.66,-82.5\"/>\n</g>\n<!-- 132005508667552* -->\n<g id=\"node4\" class=\"node\">\n<title>132005508667552*</title>\n<ellipse fill=\"none\" stroke=\"black\" cx=\"597\" cy=\"-79\" rx=\"27\" ry=\"18\"/>\n<text text-anchor=\"middle\" x=\"597\" y=\"-75.3\" font-family=\"Times,serif\" font-size=\"14.00\">*</text>\n</g>\n<!-- 132005508667552*&#45;&gt;132005508667552 -->\n<g id=\"edge3\" class=\"edge\">\n<title>132005508667552*&#45;&gt;132005508667552</title>\n<path fill=\"none\" stroke=\"black\" d=\"M624.1,-79C631.83,-79 640.6,-79 649.4,-79\"/>\n<polygon fill=\"black\" stroke=\"black\" points=\"649.68,-82.5 659.68,-79 649.68,-75.5 649.68,-82.5\"/>\n</g>\n<!-- 132005508667936 -->\n<g id=\"node5\" class=\"node\">\n<title>132005508667936</title>\n<polygon fill=\"none\" stroke=\"black\" points=\"440,-88.5 440,-157.5 534,-157.5 534,-88.5 440,-88.5\"/>\n<text text-anchor=\"middle\" x=\"487\" y=\"-142.3\" font-family=\"Times,serif\" font-size=\"14.00\">D</text>\n<polyline fill=\"none\" stroke=\"black\" points=\"440,-134.5 534,-134.5 \"/>\n<text text-anchor=\"middle\" x=\"487\" y=\"-119.3\" font-family=\"Times,serif\" font-size=\"14.00\">val=4.000</text>\n<polyline fill=\"none\" stroke=\"black\" points=\"440,-111.5 534,-111.5 \"/>\n<text text-anchor=\"middle\" x=\"487\" y=\"-96.3\" font-family=\"Times,serif\" font-size=\"14.00\">Grad=&#45;10.000</text>\n</g>\n<!-- 132005508667936&#45;&gt;132005508667552* -->\n<g id=\"edge4\" class=\"edge\">\n<title>132005508667936&#45;&gt;132005508667552*</title>\n<path fill=\"none\" stroke=\"black\" d=\"M534.11,-104.21C544.24,-100.09 554.75,-95.81 564.16,-91.97\"/>\n<polygon fill=\"black\" stroke=\"black\" points=\"565.58,-95.17 573.52,-88.16 562.94,-88.69 565.58,-95.17\"/>\n</g>\n<!-- 132005508667984 -->\n<g id=\"node6\" class=\"node\">\n<title>132005508667984</title>\n<polygon fill=\"none\" stroke=\"black\" points=\"440,-0.5 440,-69.5 534,-69.5 534,-0.5 440,-0.5\"/>\n<text text-anchor=\"middle\" x=\"487\" y=\"-54.3\" font-family=\"Times,serif\" font-size=\"14.00\">F</text>\n<polyline fill=\"none\" stroke=\"black\" points=\"440,-46.5 534,-46.5 \"/>\n<text text-anchor=\"middle\" x=\"487\" y=\"-31.3\" font-family=\"Times,serif\" font-size=\"14.00\">val=2.000</text>\n<polyline fill=\"none\" stroke=\"black\" points=\"440,-23.5 534,-23.5 \"/>\n<text text-anchor=\"middle\" x=\"487\" y=\"-8.3\" font-family=\"Times,serif\" font-size=\"14.00\">Grad=&#45;20.000</text>\n</g>\n<!-- 132005508667984&#45;&gt;132005508667552* -->\n<g id=\"edge5\" class=\"edge\">\n<title>132005508667984&#45;&gt;132005508667552*</title>\n<path fill=\"none\" stroke=\"black\" d=\"M534.11,-53.79C544.24,-57.91 554.75,-62.19 564.16,-66.03\"/>\n<polygon fill=\"black\" stroke=\"black\" points=\"562.94,-69.31 573.52,-69.84 565.58,-62.83 562.94,-69.31\"/>\n</g>\n<!-- 132005508667936+ -->\n<g id=\"node7\" class=\"node\">\n<title>132005508667936+</title>\n<ellipse fill=\"none\" stroke=\"black\" cx=\"377\" cy=\"-123\" rx=\"27\" ry=\"18\"/>\n<text text-anchor=\"middle\" x=\"377\" y=\"-119.3\" font-family=\"Times,serif\" font-size=\"14.00\">+</text>\n</g>\n<!-- 132005508667936+&#45;&gt;132005508667936 -->\n<g id=\"edge6\" class=\"edge\">\n<title>132005508667936+&#45;&gt;132005508667936</title>\n<path fill=\"none\" stroke=\"black\" d=\"M404.14,-123C411.95,-123 420.81,-123 429.77,-123\"/>\n<polygon fill=\"black\" stroke=\"black\" points=\"429.86,-126.5 439.86,-123 429.86,-119.5 429.86,-126.5\"/>\n</g>\n<!-- 132005508662560 -->\n<g id=\"node8\" class=\"node\">\n<title>132005508662560</title>\n<polygon fill=\"none\" stroke=\"black\" points=\"220,-132.5 220,-201.5 314,-201.5 314,-132.5 220,-132.5\"/>\n<text text-anchor=\"middle\" x=\"267\" y=\"-186.3\" font-family=\"Times,serif\" font-size=\"14.00\">C</text>\n<polyline fill=\"none\" stroke=\"black\" points=\"220,-178.5 314,-178.5 \"/>\n<text text-anchor=\"middle\" x=\"267\" y=\"-163.3\" font-family=\"Times,serif\" font-size=\"14.00\">val=10.000</text>\n<polyline fill=\"none\" stroke=\"black\" points=\"220,-155.5 314,-155.5 \"/>\n<text text-anchor=\"middle\" x=\"267\" y=\"-140.3\" font-family=\"Times,serif\" font-size=\"14.00\">Grad=&#45;10.000</text>\n</g>\n<!-- 132005508662560&#45;&gt;132005508667936+ -->\n<g id=\"edge7\" class=\"edge\">\n<title>132005508662560&#45;&gt;132005508667936+</title>\n<path fill=\"none\" stroke=\"black\" d=\"M314.11,-148.21C324.24,-144.09 334.75,-139.81 344.16,-135.97\"/>\n<polygon fill=\"black\" stroke=\"black\" points=\"345.58,-139.17 353.52,-132.16 342.94,-132.69 345.58,-139.17\"/>\n</g>\n<!-- 132005508664048 -->\n<g id=\"node9\" class=\"node\">\n<title>132005508664048</title>\n<polygon fill=\"none\" stroke=\"black\" points=\"220,-44.5 220,-113.5 314,-113.5 314,-44.5 220,-44.5\"/>\n<text text-anchor=\"middle\" x=\"267\" y=\"-98.3\" font-family=\"Times,serif\" font-size=\"14.00\">E</text>\n<polyline fill=\"none\" stroke=\"black\" points=\"220,-90.5 314,-90.5 \"/>\n<text text-anchor=\"middle\" x=\"267\" y=\"-75.3\" font-family=\"Times,serif\" font-size=\"14.00\">val=&#45;6.000</text>\n<polyline fill=\"none\" stroke=\"black\" points=\"220,-67.5 314,-67.5 \"/>\n<text text-anchor=\"middle\" x=\"267\" y=\"-52.3\" font-family=\"Times,serif\" font-size=\"14.00\">Grad=&#45;10.000</text>\n</g>\n<!-- 132005508664048&#45;&gt;132005508667936+ -->\n<g id=\"edge8\" class=\"edge\">\n<title>132005508664048&#45;&gt;132005508667936+</title>\n<path fill=\"none\" stroke=\"black\" d=\"M314.11,-97.79C324.24,-101.91 334.75,-106.19 344.16,-110.03\"/>\n<polygon fill=\"black\" stroke=\"black\" points=\"342.94,-113.31 353.52,-113.84 345.58,-106.83 342.94,-113.31\"/>\n</g>\n<!-- 132005508664048* -->\n<g id=\"node10\" class=\"node\">\n<title>132005508664048*</title>\n<ellipse fill=\"none\" stroke=\"black\" cx=\"157\" cy=\"-79\" rx=\"27\" ry=\"18\"/>\n<text text-anchor=\"middle\" x=\"157\" y=\"-75.3\" font-family=\"Times,serif\" font-size=\"14.00\">*</text>\n</g>\n<!-- 132005508664048*&#45;&gt;132005508664048 -->\n<g id=\"edge9\" class=\"edge\">\n<title>132005508664048*&#45;&gt;132005508664048</title>\n<path fill=\"none\" stroke=\"black\" d=\"M184.14,-79C191.95,-79 200.81,-79 209.77,-79\"/>\n<polygon fill=\"black\" stroke=\"black\" points=\"209.86,-82.5 219.86,-79 209.86,-75.5 209.86,-82.5\"/>\n</g>\n<!-- 132005508677200 -->\n<g id=\"node11\" class=\"node\">\n<title>132005508677200</title>\n<polygon fill=\"none\" stroke=\"black\" points=\"0,-88.5 0,-157.5 94,-157.5 94,-88.5 0,-88.5\"/>\n<text text-anchor=\"middle\" x=\"47\" y=\"-142.3\" font-family=\"Times,serif\" font-size=\"14.00\">B</text>\n<polyline fill=\"none\" stroke=\"black\" points=\"0,-134.5 94,-134.5 \"/>\n<text text-anchor=\"middle\" x=\"47\" y=\"-119.3\" font-family=\"Times,serif\" font-size=\"14.00\">val=&#45;3.000</text>\n<polyline fill=\"none\" stroke=\"black\" points=\"0,-111.5 94,-111.5 \"/>\n<text text-anchor=\"middle\" x=\"47\" y=\"-96.3\" font-family=\"Times,serif\" font-size=\"14.00\">Grad=&#45;20.000</text>\n</g>\n<!-- 132005508677200&#45;&gt;132005508664048* -->\n<g id=\"edge10\" class=\"edge\">\n<title>132005508677200&#45;&gt;132005508664048*</title>\n<path fill=\"none\" stroke=\"black\" d=\"M94.11,-104.21C104.24,-100.09 114.75,-95.81 124.16,-91.97\"/>\n<polygon fill=\"black\" stroke=\"black\" points=\"125.58,-95.17 133.52,-88.16 122.94,-88.69 125.58,-95.17\"/>\n</g>\n<!-- 132005508670048 -->\n<g id=\"node12\" class=\"node\">\n<title>132005508670048</title>\n<polygon fill=\"none\" stroke=\"black\" points=\"2.5,-0.5 2.5,-69.5 91.5,-69.5 91.5,-0.5 2.5,-0.5\"/>\n<text text-anchor=\"middle\" x=\"47\" y=\"-54.3\" font-family=\"Times,serif\" font-size=\"14.00\">A</text>\n<polyline fill=\"none\" stroke=\"black\" points=\"2.5,-46.5 91.5,-46.5 \"/>\n<text text-anchor=\"middle\" x=\"47\" y=\"-31.3\" font-family=\"Times,serif\" font-size=\"14.00\">val=2.000</text>\n<polyline fill=\"none\" stroke=\"black\" points=\"2.5,-23.5 91.5,-23.5 \"/>\n<text text-anchor=\"middle\" x=\"47\" y=\"-8.3\" font-family=\"Times,serif\" font-size=\"14.00\">Grad=30.000</text>\n</g>\n<!-- 132005508670048&#45;&gt;132005508664048* -->\n<g id=\"edge11\" class=\"edge\">\n<title>132005508670048&#45;&gt;132005508664048*</title>\n<path fill=\"none\" stroke=\"black\" d=\"M91.62,-52.77C102.53,-57.22 114.03,-61.9 124.25,-66.06\"/>\n<polygon fill=\"black\" stroke=\"black\" points=\"123,-69.34 133.58,-69.87 125.64,-62.85 123,-69.34\"/>\n</g>\n</g>\n</svg>\n",
            "text/plain": [
              "<graphviz.graphs.Digraph at 0x780eed73c4c0>"
            ]
          },
          "metadata": {},
          "execution_count": 5
        }
      ]
    },
    {
      "cell_type": "code",
      "source": [
        "a = Value(2.0, \"A\")\n",
        "b = Value(3.0, \"B\")\n",
        "c = Value(-4.0, \"C\")\n",
        "d = Value(-1.0, \"D\")\n",
        "f = (a * b + c.relu()) * d.tanh(); f.label= \"F\"\n",
        "\n",
        "f.backprop()\n",
        "draw(f)"
      ],
      "metadata": {
        "colab": {
          "base_uri": "https://localhost:8080/",
          "height": 494
        },
        "id": "IRMwbzGA9Q6m",
        "outputId": "e3e450b5-3d4b-4c16-dc07-e4796cc38e8b"
      },
      "execution_count": 6,
      "outputs": [
        {
          "output_type": "stream",
          "name": "stdout",
          "text": [
            "['B', 'A', '_', 'C', '_', '_', 'D', '_', 'F']\n"
          ]
        },
        {
          "output_type": "execute_result",
          "data": {
            "image/svg+xml": "<?xml version=\"1.0\" encoding=\"UTF-8\" standalone=\"no\"?>\n<!DOCTYPE svg PUBLIC \"-//W3C//DTD SVG 1.1//EN\"\n \"http://www.w3.org/Graphics/SVG/1.1/DTD/svg11.dtd\">\n<!-- Generated by graphviz version 2.43.0 (0)\n -->\n<!-- Title: %3 Pages: 1 -->\n<svg width=\"741pt\" height=\"342pt\"\n viewBox=\"0.00 0.00 740.99 342.00\" xmlns=\"http://www.w3.org/2000/svg\" xmlns:xlink=\"http://www.w3.org/1999/xlink\">\n<g id=\"graph0\" class=\"graph\" transform=\"scale(1 1) rotate(0) translate(4 338)\">\n<title>%3</title>\n<polygon fill=\"white\" stroke=\"transparent\" points=\"-4,4 -4,-338 736.99,-338 736.99,4 -4,4\"/>\n<!-- 132005508672736 -->\n<g id=\"node1\" class=\"node\">\n<title>132005508672736</title>\n<polygon fill=\"none\" stroke=\"black\" points=\"649.99,-44.5 649.99,-113.5 732.99,-113.5 732.99,-44.5 649.99,-44.5\"/>\n<text text-anchor=\"middle\" x=\"691.49\" y=\"-98.3\" font-family=\"Times,serif\" font-size=\"14.00\">F</text>\n<polyline fill=\"none\" stroke=\"black\" points=\"649.99,-90.5 732.99,-90.5 \"/>\n<text text-anchor=\"middle\" x=\"691.49\" y=\"-75.3\" font-family=\"Times,serif\" font-size=\"14.00\">val=&#45;4.570</text>\n<polyline fill=\"none\" stroke=\"black\" points=\"649.99,-67.5 732.99,-67.5 \"/>\n<text text-anchor=\"middle\" x=\"691.49\" y=\"-52.3\" font-family=\"Times,serif\" font-size=\"14.00\">Grad=1.000</text>\n</g>\n<!-- 132005508672736* -->\n<g id=\"node2\" class=\"node\">\n<title>132005508672736*</title>\n<ellipse fill=\"none\" stroke=\"black\" cx=\"586.99\" cy=\"-79\" rx=\"27\" ry=\"18\"/>\n<text text-anchor=\"middle\" x=\"586.99\" y=\"-75.3\" font-family=\"Times,serif\" font-size=\"14.00\">*</text>\n</g>\n<!-- 132005508672736*&#45;&gt;132005508672736 -->\n<g id=\"edge1\" class=\"edge\">\n<title>132005508672736*&#45;&gt;132005508672736</title>\n<path fill=\"none\" stroke=\"black\" d=\"M614.12,-79C621.88,-79 630.66,-79 639.43,-79\"/>\n<polygon fill=\"black\" stroke=\"black\" points=\"639.67,-82.5 649.67,-79 639.67,-75.5 639.67,-82.5\"/>\n</g>\n<!-- 132005508671488 -->\n<g id=\"node3\" class=\"node\">\n<title>132005508671488</title>\n<polygon fill=\"none\" stroke=\"black\" points=\"436.99,-88.5 436.99,-157.5 523.99,-157.5 523.99,-88.5 436.99,-88.5\"/>\n<text text-anchor=\"middle\" x=\"480.49\" y=\"-142.3\" font-family=\"Times,serif\" font-size=\"14.00\">_</text>\n<polyline fill=\"none\" stroke=\"black\" points=\"436.99,-134.5 523.99,-134.5 \"/>\n<text text-anchor=\"middle\" x=\"480.49\" y=\"-119.3\" font-family=\"Times,serif\" font-size=\"14.00\">val=6.000</text>\n<polyline fill=\"none\" stroke=\"black\" points=\"436.99,-111.5 523.99,-111.5 \"/>\n<text text-anchor=\"middle\" x=\"480.49\" y=\"-96.3\" font-family=\"Times,serif\" font-size=\"14.00\">Grad=&#45;0.762</text>\n</g>\n<!-- 132005508671488&#45;&gt;132005508672736* -->\n<g id=\"edge2\" class=\"edge\">\n<title>132005508671488&#45;&gt;132005508672736*</title>\n<path fill=\"none\" stroke=\"black\" d=\"M524,-105.1C534.15,-100.83 544.81,-96.34 554.37,-92.32\"/>\n<polygon fill=\"black\" stroke=\"black\" points=\"556.01,-95.42 563.86,-88.32 553.29,-88.97 556.01,-95.42\"/>\n</g>\n<!-- 132005508671632 -->\n<g id=\"node4\" class=\"node\">\n<title>132005508671632</title>\n<polygon fill=\"none\" stroke=\"black\" points=\"438.99,-0.5 438.99,-69.5 521.99,-69.5 521.99,-0.5 438.99,-0.5\"/>\n<text text-anchor=\"middle\" x=\"480.49\" y=\"-54.3\" font-family=\"Times,serif\" font-size=\"14.00\">_</text>\n<polyline fill=\"none\" stroke=\"black\" points=\"438.99,-46.5 521.99,-46.5 \"/>\n<text text-anchor=\"middle\" x=\"480.49\" y=\"-31.3\" font-family=\"Times,serif\" font-size=\"14.00\">val=&#45;0.762</text>\n<polyline fill=\"none\" stroke=\"black\" points=\"438.99,-23.5 521.99,-23.5 \"/>\n<text text-anchor=\"middle\" x=\"480.49\" y=\"-8.3\" font-family=\"Times,serif\" font-size=\"14.00\">Grad=6.000</text>\n</g>\n<!-- 132005508671632&#45;&gt;132005508672736* -->\n<g id=\"edge3\" class=\"edge\">\n<title>132005508671632&#45;&gt;132005508672736*</title>\n<path fill=\"none\" stroke=\"black\" d=\"M522.2,-52.14C532.88,-56.64 544.24,-61.42 554.37,-65.68\"/>\n<polygon fill=\"black\" stroke=\"black\" points=\"553.07,-68.93 563.64,-69.59 555.78,-62.48 553.07,-68.93\"/>\n</g>\n<!-- 132005508671488+ -->\n<g id=\"node5\" class=\"node\">\n<title>132005508671488+</title>\n<ellipse fill=\"none\" stroke=\"black\" cx=\"373.99\" cy=\"-123\" rx=\"27\" ry=\"18\"/>\n<text text-anchor=\"middle\" x=\"373.99\" y=\"-119.3\" font-family=\"Times,serif\" font-size=\"14.00\">+</text>\n</g>\n<!-- 132005508671488+&#45;&gt;132005508671488 -->\n<g id=\"edge4\" class=\"edge\">\n<title>132005508671488+&#45;&gt;132005508671488</title>\n<path fill=\"none\" stroke=\"black\" d=\"M401.09,-123C408.83,-123 417.59,-123 426.39,-123\"/>\n<polygon fill=\"black\" stroke=\"black\" points=\"426.67,-126.5 436.67,-123 426.67,-119.5 426.67,-126.5\"/>\n</g>\n<!-- 132005508672592 -->\n<g id=\"node6\" class=\"node\">\n<title>132005508672592</title>\n<polygon fill=\"none\" stroke=\"black\" points=\"223.99,-176.5 223.99,-245.5 310.99,-245.5 310.99,-176.5 223.99,-176.5\"/>\n<text text-anchor=\"middle\" x=\"267.49\" y=\"-230.3\" font-family=\"Times,serif\" font-size=\"14.00\">_</text>\n<polyline fill=\"none\" stroke=\"black\" points=\"223.99,-222.5 310.99,-222.5 \"/>\n<text text-anchor=\"middle\" x=\"267.49\" y=\"-207.3\" font-family=\"Times,serif\" font-size=\"14.00\">val=6.000</text>\n<polyline fill=\"none\" stroke=\"black\" points=\"223.99,-199.5 310.99,-199.5 \"/>\n<text text-anchor=\"middle\" x=\"267.49\" y=\"-184.3\" font-family=\"Times,serif\" font-size=\"14.00\">Grad=&#45;0.762</text>\n</g>\n<!-- 132005508672592&#45;&gt;132005508671488+ -->\n<g id=\"edge5\" class=\"edge\">\n<title>132005508672592&#45;&gt;132005508671488+</title>\n<path fill=\"none\" stroke=\"black\" d=\"M309.5,-176.47C322.75,-165.31 337.01,-153.3 348.66,-143.49\"/>\n<polygon fill=\"black\" stroke=\"black\" points=\"351.23,-145.9 356.62,-136.79 346.72,-140.55 351.23,-145.9\"/>\n</g>\n<!-- 132005508671728 -->\n<g id=\"node7\" class=\"node\">\n<title>132005508671728</title>\n<polygon fill=\"none\" stroke=\"black\" points=\"223.99,-88.5 223.99,-157.5 310.99,-157.5 310.99,-88.5 223.99,-88.5\"/>\n<text text-anchor=\"middle\" x=\"267.49\" y=\"-142.3\" font-family=\"Times,serif\" font-size=\"14.00\">_</text>\n<polyline fill=\"none\" stroke=\"black\" points=\"223.99,-134.5 310.99,-134.5 \"/>\n<text text-anchor=\"middle\" x=\"267.49\" y=\"-119.3\" font-family=\"Times,serif\" font-size=\"14.00\">val=0.000</text>\n<polyline fill=\"none\" stroke=\"black\" points=\"223.99,-111.5 310.99,-111.5 \"/>\n<text text-anchor=\"middle\" x=\"267.49\" y=\"-96.3\" font-family=\"Times,serif\" font-size=\"14.00\">Grad=&#45;0.762</text>\n</g>\n<!-- 132005508671728&#45;&gt;132005508671488+ -->\n<g id=\"edge6\" class=\"edge\">\n<title>132005508671728&#45;&gt;132005508671488+</title>\n<path fill=\"none\" stroke=\"black\" d=\"M311,-123C319.5,-123 328.36,-123 336.63,-123\"/>\n<polygon fill=\"black\" stroke=\"black\" points=\"336.73,-126.5 346.73,-123 336.73,-119.5 336.73,-126.5\"/>\n</g>\n<!-- 132005508671632tanh -->\n<g id=\"node8\" class=\"node\">\n<title>132005508671632tanh</title>\n<ellipse fill=\"none\" stroke=\"black\" cx=\"373.99\" cy=\"-35\" rx=\"27\" ry=\"18\"/>\n<text text-anchor=\"middle\" x=\"373.99\" y=\"-31.3\" font-family=\"Times,serif\" font-size=\"14.00\">tanh</text>\n</g>\n<!-- 132005508671632tanh&#45;&gt;132005508671632 -->\n<g id=\"edge7\" class=\"edge\">\n<title>132005508671632tanh&#45;&gt;132005508671632</title>\n<path fill=\"none\" stroke=\"black\" d=\"M401.09,-35C409.44,-35 418.99,-35 428.48,-35\"/>\n<polygon fill=\"black\" stroke=\"black\" points=\"428.7,-38.5 438.7,-35 428.7,-31.5 428.7,-38.5\"/>\n</g>\n<!-- 132005508674608 -->\n<g id=\"node9\" class=\"node\">\n<title>132005508674608</title>\n<polygon fill=\"none\" stroke=\"black\" points=\"225.99,-0.5 225.99,-69.5 308.99,-69.5 308.99,-0.5 225.99,-0.5\"/>\n<text text-anchor=\"middle\" x=\"267.49\" y=\"-54.3\" font-family=\"Times,serif\" font-size=\"14.00\">D</text>\n<polyline fill=\"none\" stroke=\"black\" points=\"225.99,-46.5 308.99,-46.5 \"/>\n<text text-anchor=\"middle\" x=\"267.49\" y=\"-31.3\" font-family=\"Times,serif\" font-size=\"14.00\">val=&#45;1.000</text>\n<polyline fill=\"none\" stroke=\"black\" points=\"225.99,-23.5 308.99,-23.5 \"/>\n<text text-anchor=\"middle\" x=\"267.49\" y=\"-8.3\" font-family=\"Times,serif\" font-size=\"14.00\">Grad=2.520</text>\n</g>\n<!-- 132005508674608&#45;&gt;132005508671632tanh -->\n<g id=\"edge8\" class=\"edge\">\n<title>132005508674608&#45;&gt;132005508671632tanh</title>\n<path fill=\"none\" stroke=\"black\" d=\"M309.2,-35C318.26,-35 327.81,-35 336.68,-35\"/>\n<polygon fill=\"black\" stroke=\"black\" points=\"336.71,-38.5 346.71,-35 336.71,-31.5 336.71,-38.5\"/>\n</g>\n<!-- 132005508672592* -->\n<g id=\"node10\" class=\"node\">\n<title>132005508672592*</title>\n<ellipse fill=\"none\" stroke=\"black\" cx=\"155.5\" cy=\"-211\" rx=\"27\" ry=\"18\"/>\n<text text-anchor=\"middle\" x=\"155.5\" y=\"-207.3\" font-family=\"Times,serif\" font-size=\"14.00\">*</text>\n</g>\n<!-- 132005508672592*&#45;&gt;132005508672592 -->\n<g id=\"edge9\" class=\"edge\">\n<title>132005508672592*&#45;&gt;132005508672592</title>\n<path fill=\"none\" stroke=\"black\" d=\"M182.56,-211C191.9,-211 202.8,-211 213.59,-211\"/>\n<polygon fill=\"black\" stroke=\"black\" points=\"213.85,-214.5 223.85,-211 213.85,-207.5 213.85,-214.5\"/>\n</g>\n<!-- 132005508671872 -->\n<g id=\"node11\" class=\"node\">\n<title>132005508671872</title>\n<polygon fill=\"none\" stroke=\"black\" points=\"0,-264.5 0,-333.5 87,-333.5 87,-264.5 0,-264.5\"/>\n<text text-anchor=\"middle\" x=\"43.5\" y=\"-318.3\" font-family=\"Times,serif\" font-size=\"14.00\">B</text>\n<polyline fill=\"none\" stroke=\"black\" points=\"0,-310.5 87,-310.5 \"/>\n<text text-anchor=\"middle\" x=\"43.5\" y=\"-295.3\" font-family=\"Times,serif\" font-size=\"14.00\">val=3.000</text>\n<polyline fill=\"none\" stroke=\"black\" points=\"0,-287.5 87,-287.5 \"/>\n<text text-anchor=\"middle\" x=\"43.5\" y=\"-272.3\" font-family=\"Times,serif\" font-size=\"14.00\">Grad=&#45;1.523</text>\n</g>\n<!-- 132005508671872&#45;&gt;132005508672592* -->\n<g id=\"edge10\" class=\"edge\">\n<title>132005508671872&#45;&gt;132005508672592*</title>\n<path fill=\"none\" stroke=\"black\" d=\"M87.03,-264.98C101.37,-253.5 116.91,-241.07 129.45,-231.04\"/>\n<polygon fill=\"black\" stroke=\"black\" points=\"131.99,-233.49 137.61,-224.51 127.61,-228.02 131.99,-233.49\"/>\n</g>\n<!-- 132005508667360 -->\n<g id=\"node12\" class=\"node\">\n<title>132005508667360</title>\n<polygon fill=\"none\" stroke=\"black\" points=\"0,-176.5 0,-245.5 87,-245.5 87,-176.5 0,-176.5\"/>\n<text text-anchor=\"middle\" x=\"43.5\" y=\"-230.3\" font-family=\"Times,serif\" font-size=\"14.00\">A</text>\n<polyline fill=\"none\" stroke=\"black\" points=\"0,-222.5 87,-222.5 \"/>\n<text text-anchor=\"middle\" x=\"43.5\" y=\"-207.3\" font-family=\"Times,serif\" font-size=\"14.00\">val=2.000</text>\n<polyline fill=\"none\" stroke=\"black\" points=\"0,-199.5 87,-199.5 \"/>\n<text text-anchor=\"middle\" x=\"43.5\" y=\"-184.3\" font-family=\"Times,serif\" font-size=\"14.00\">Grad=&#45;2.285</text>\n</g>\n<!-- 132005508667360&#45;&gt;132005508672592* -->\n<g id=\"edge11\" class=\"edge\">\n<title>132005508667360&#45;&gt;132005508672592*</title>\n<path fill=\"none\" stroke=\"black\" d=\"M87.03,-211C97.35,-211 108.29,-211 118.28,-211\"/>\n<polygon fill=\"black\" stroke=\"black\" points=\"118.3,-214.5 128.3,-211 118.3,-207.5 118.3,-214.5\"/>\n</g>\n<!-- 132005508671728ReLU -->\n<g id=\"node13\" class=\"node\">\n<title>132005508671728ReLU</title>\n<ellipse fill=\"none\" stroke=\"black\" cx=\"155.5\" cy=\"-123\" rx=\"32.49\" ry=\"18\"/>\n<text text-anchor=\"middle\" x=\"155.5\" y=\"-119.3\" font-family=\"Times,serif\" font-size=\"14.00\">ReLU</text>\n</g>\n<!-- 132005508671728ReLU&#45;&gt;132005508671728 -->\n<g id=\"edge12\" class=\"edge\">\n<title>132005508671728ReLU&#45;&gt;132005508671728</title>\n<path fill=\"none\" stroke=\"black\" d=\"M188.02,-123C196.05,-123 204.9,-123 213.68,-123\"/>\n<polygon fill=\"black\" stroke=\"black\" points=\"213.9,-126.5 223.9,-123 213.9,-119.5 213.9,-126.5\"/>\n</g>\n<!-- 132005508675424 -->\n<g id=\"node14\" class=\"node\">\n<title>132005508675424</title>\n<polygon fill=\"none\" stroke=\"black\" points=\"2,-88.5 2,-157.5 85,-157.5 85,-88.5 2,-88.5\"/>\n<text text-anchor=\"middle\" x=\"43.5\" y=\"-142.3\" font-family=\"Times,serif\" font-size=\"14.00\">C</text>\n<polyline fill=\"none\" stroke=\"black\" points=\"2,-134.5 85,-134.5 \"/>\n<text text-anchor=\"middle\" x=\"43.5\" y=\"-119.3\" font-family=\"Times,serif\" font-size=\"14.00\">val=&#45;4.000</text>\n<polyline fill=\"none\" stroke=\"black\" points=\"2,-111.5 85,-111.5 \"/>\n<text text-anchor=\"middle\" x=\"43.5\" y=\"-96.3\" font-family=\"Times,serif\" font-size=\"14.00\">Grad=0.000</text>\n</g>\n<!-- 132005508675424&#45;&gt;132005508671728ReLU -->\n<g id=\"edge13\" class=\"edge\">\n<title>132005508675424&#45;&gt;132005508671728ReLU</title>\n<path fill=\"none\" stroke=\"black\" d=\"M85.15,-123C94.22,-123 103.85,-123 112.95,-123\"/>\n<polygon fill=\"black\" stroke=\"black\" points=\"112.96,-126.5 122.96,-123 112.96,-119.5 112.96,-126.5\"/>\n</g>\n</g>\n</svg>\n",
            "text/plain": [
              "<graphviz.graphs.Digraph at 0x780f2920dc90>"
            ]
          },
          "metadata": {},
          "execution_count": 6
        }
      ]
    },
    {
      "cell_type": "code",
      "source": [
        "import random\n",
        "\n",
        "class Module:\n",
        "    def zero_grad(self):\n",
        "        for param in self.params():\n",
        "            param = 0\n",
        "\n",
        "    def params(self):\n",
        "        return []\n",
        "\n",
        "class Neuron(Module):\n",
        "\n",
        "    def __init__(self, ninputs, nonlin=True):\n",
        "        self.w = [Value(random.uniform(-1, 1)) for _ in range(ninputs)]\n",
        "        self.b = Value(0)\n",
        "        self.nonlin = nonlin\n",
        "\n",
        "    def params(self):\n",
        "        return self.w + [self.b]\n",
        "\n",
        "    def __call__(self, inputs):\n",
        "        activation = sum([wk * xk for wk,xk in zip(self.w, inputs)], self.b)\n",
        "        return activation.relu() if self.nonlin else activation\n",
        "\n",
        "\n",
        "    def __repr__(self):\n",
        "        wv = [w.val for w in self.params()]\n",
        "        return (\"Non\" if self.nonlin else \"\") + f\"LinearNeuron({wv})\"\n",
        "\n",
        "\n",
        "class Layer(Module):\n",
        "\n",
        "    def __init__(self, ninputs, noutputs, nonlin=True):\n",
        "        self.neurons = [Neuron(ninputs, nonlin) for _ in range(noutputs)]\n",
        "\n",
        "    def __call__(self, inputs):\n",
        "        return [n(inputs) for n in self.neurons]\n",
        "\n",
        "    def params(self):\n",
        "        res = []\n",
        "        for n in self.neurons: res.extend(n.params())\n",
        "        return res\n",
        "\n",
        "    def __repr__(self):\n",
        "        newline = '\\n'\n",
        "        return f\"Layer of [{newline}{(',' + newline).join(str(n) for n in self.neurons)}{newline}]\"\n",
        "\n",
        "\n",
        "\n",
        "class MLP(Module):\n",
        "\n",
        "    def __init__(self, ninputs, layerlist, nonlin=True):\n",
        "        nonlist = [nonlin] * len(layerlist); nonlist[-1] = False\n",
        "        dim = [ninputs] + layerlist\n",
        "        self.layers = [Layer(dim[k], dim[k + 1], nonlist[k]) for k in range(len(layerlist))]\n",
        "\n",
        "    def __call__(self, inputs):\n",
        "        x = inputs\n",
        "        for layer in self.layers: x = layer(x)\n",
        "        return x\n",
        "\n",
        "    def params(self):\n",
        "        res = []\n",
        "        for cl in self.layers: res.extend(cl.params())\n",
        "        return res\n",
        "\n",
        "    def __repr__(self):\n",
        "        newline = '\\n'\n",
        "        return f\"MLP of [{newline}{(', ' + newline).join(str(layer) for layer in self.layers)}]\"\n"
      ],
      "metadata": {
        "id": "GLyFfulzJ9ok"
      },
      "execution_count": 31,
      "outputs": []
    },
    {
      "cell_type": "code",
      "source": [
        "n = Neuron(2, False)\n",
        "nl = Layer(2, 3, True)\n",
        "nmlp = MLP(2, [3, 4, 1], True)\n",
        "\n",
        "print(nmlp)"
      ],
      "metadata": {
        "id": "EnuhFZJAg2nJ",
        "colab": {
          "base_uri": "https://localhost:8080/"
        },
        "outputId": "0378264a-c04a-464f-9999-001f8c6b6c64"
      },
      "execution_count": 32,
      "outputs": [
        {
          "output_type": "stream",
          "name": "stdout",
          "text": [
            "MLP of [\n",
            "Layer of [\n",
            "NonLinearNeuron([-0.4199349873895355, -0.1787132497109336, 0]),\n",
            "NonLinearNeuron([0.9777217689165167, 0.1628427620023487, 0]),\n",
            "NonLinearNeuron([0.7142969774253756, 0.16338665760801807, 0])\n",
            "], \n",
            "Layer of [\n",
            "NonLinearNeuron([-0.7266869334862947, 0.09413941245671653, 0.48471209550918837, 0]),\n",
            "NonLinearNeuron([-0.05133146613009232, -0.6263541392323566, 0.36840971784651333, 0]),\n",
            "NonLinearNeuron([-0.9002289386475701, 0.29153440288571497, 0.40096521041804856, 0]),\n",
            "NonLinearNeuron([0.5620992672155622, 0.001617755978585711, 0.9636515829052867, 0])\n",
            "], \n",
            "Layer of [\n",
            "LinearNeuron([0.07271972220504641, 0.8045153167063313, -0.20506385912594438, 0.3554055291230227, 0])\n",
            "]]\n"
          ]
        }
      ]
    },
    {
      "cell_type": "code",
      "source": [],
      "metadata": {
        "id": "-raDrvKe1vDY"
      },
      "execution_count": 9,
      "outputs": []
    }
  ]
}