{
  "nbformat": 4,
  "nbformat_minor": 0,
  "metadata": {
    "colab": {
      "provenance": []
    },
    "kernelspec": {
      "name": "python3",
      "display_name": "Python 3"
    },
    "language_info": {
      "name": "python"
    }
  },
  "cells": [
    {
      "cell_type": "code",
      "source": [
        "import torch\n",
        "import random\n",
        "from torch.nn import functional as F\n",
        "import matplotlib.pyplot as plt"
      ],
      "metadata": {
        "id": "yG2bdIg9WrDb"
      },
      "execution_count": 10,
      "outputs": []
    },
    {
      "cell_type": "code",
      "source": [
        "block_size = 3\n",
        "B  = 26\n",
        "NE = 2\n",
        "NH = 100\n",
        "BATCH_SIZE = 32\n",
        "NUM_ITERATIONS=10000\n",
        "learning_rate = 0.1\n",
        "\n",
        "random.seed(0)"
      ],
      "metadata": {
        "id": "0kKsn0ccRN-T"
      },
      "execution_count": 11,
      "outputs": []
    },
    {
      "cell_type": "code",
      "source": [
        "def getnum(x): return (ord(x) - ord('a')) if x.isalpha() else B\n",
        "\n",
        "def build_dataset(words):\n",
        "\n",
        "    X, Y = list(), list()\n",
        "    for w in words:\n",
        "        if len(w) < block_size: continue\n",
        "        w = \".\" * block_size + w + '.'\n",
        "        for p in range(block_size, len(w)):\n",
        "            prev = w[(p - block_size) : p]\n",
        "            next = w[p]\n",
        "            prev = [getnum(x) for x in prev]\n",
        "            next = getnum(next)\n",
        "            X.append(prev)\n",
        "            Y.append(next)\n",
        "    return torch.tensor(X), torch.tensor(Y)"
      ],
      "metadata": {
        "id": "Ur2JmznxSa5O"
      },
      "execution_count": 12,
      "outputs": []
    },
    {
      "cell_type": "code",
      "source": [
        "with open(\"input.txt\", \"r\") as f: words = f.read().splitlines()\n",
        "random.shuffle(words)\n",
        "\n",
        "n1 = int(0.01 * len(words))\n",
        "n2 = int(0.9 * len(words))\n",
        "\n",
        "Xtr, Ytr = build_dataset(words[:n1])\n",
        "Xvd, Yvd = build_dataset(words[n1:n2])\n",
        "Xte, Yte = build_dataset(words[n2:])\n",
        "\n",
        "print(Xtr.shape, Ytr.shape)\n",
        "print(Xvd.shape, Yvd.shape)\n",
        "print(Xte.shape, Yte.shape)"
      ],
      "metadata": {
        "colab": {
          "base_uri": "https://localhost:8080/"
        },
        "id": "ylAwefxFSc8t",
        "outputId": "0bfab3b7-44a9-496c-9bb4-767a1e92342d"
      },
      "execution_count": 13,
      "outputs": [
        {
          "output_type": "stream",
          "name": "stdout",
          "text": [
            "torch.Size([2261, 3]) torch.Size([2261])\n",
            "torch.Size([202996, 3]) torch.Size([202996])\n",
            "torch.Size([22694, 3]) torch.Size([22694])\n"
          ]
        }
      ]
    },
    {
      "cell_type": "code",
      "source": [
        "g = torch.Generator().manual_seed(0)\n",
        "C = torch.randn((B + 1, NE), generator=g)\n",
        "Wh = torch.randn((block_size * NE, NH), generator=g)\n",
        "bh = torch.randn(NH, generator=g)\n",
        "Wt = torch.randn((NH, B + 1), generator=g)\n",
        "bt = torch.randn((B + 1), generator=g)\n",
        "\n",
        "all_params =[C, Wh, bh, Wt, bt]\n",
        "for param in all_params:\n",
        "    param.requires_grad = True\n",
        "\n",
        "\n",
        "num_params = sum([param.nelement() for param in all_params])\n",
        "print(num_params)\n"
      ],
      "metadata": {
        "colab": {
          "base_uri": "https://localhost:8080/"
        },
        "id": "ExNLbqoEwL1l",
        "outputId": "43dd1156-559c-46cd-b8f5-0061b3345278"
      },
      "execution_count": 14,
      "outputs": [
        {
          "output_type": "stream",
          "name": "stdout",
          "text": [
            "3481\n"
          ]
        }
      ]
    },
    {
      "cell_type": "code",
      "source": [
        "losses = [0] * NUM_ITERATIONS\n",
        "\n",
        "for iter in range(NUM_ITERATIONS):\n",
        "    indices = torch.randint(0, Xtr.shape[0], (BATCH_SIZE,))\n",
        "    embeddings = C[Xtr[indices]]\n",
        "    #print(embeddings.shape)\n",
        "    hidden = torch.tanh(embeddings.view(-1, block_size * NE) @ Wh + bh)\n",
        "    logits = hidden @ Wt + bt\n",
        "    loss = F.cross_entropy(logits, Ytr[indices])\n",
        "\n",
        "    for param in all_params: param.grad = None\n",
        "    loss.backward()\n",
        "    learning_rate /= (1.0 if iter < NUM_ITERATIONS / 2 else 10)\n",
        "    for param in all_params: param.data -= learning_rate * param.grad\n",
        "\n",
        "    losses[iter] = loss.log10().item()"
      ],
      "metadata": {
        "id": "lydkLt8QXMmM"
      },
      "execution_count": 15,
      "outputs": []
    },
    {
      "cell_type": "code",
      "source": [
        "plt.plot(range(len(losses)), losses)"
      ],
      "metadata": {
        "colab": {
          "base_uri": "https://localhost:8080/",
          "height": 447
        },
        "id": "r495zgwbolba",
        "outputId": "afe044bb-fc9a-4ff6-91ce-20e0692785b9"
      },
      "execution_count": 16,
      "outputs": [
        {
          "output_type": "execute_result",
          "data": {
            "text/plain": [
              "[<matplotlib.lines.Line2D at 0x787ce6e270d0>]"
            ]
          },
          "metadata": {},
          "execution_count": 16
        },
        {
          "output_type": "display_data",
          "data": {
            "text/plain": [
              "<Figure size 640x480 with 1 Axes>"
            ],
            "image/png": "[encoded data removed]"
          },
          "metadata": {}
        }
      ]
    },
    {
      "cell_type": "code",
      "source": [],
      "metadata": {
        "id": "uB7B5RylpV1A"
      },
      "execution_count": 16,
      "outputs": []
    }
  ]
}